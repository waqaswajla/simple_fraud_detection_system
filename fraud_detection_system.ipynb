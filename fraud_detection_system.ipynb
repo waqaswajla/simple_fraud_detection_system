{
 "cells": [
  {
   "cell_type": "markdown",
   "id": "6520db55",
   "metadata": {},
   "source": [
    "#  Fraud Detection System\n"
   ]
  },
  {
   "cell_type": "markdown",
   "id": "5057793f",
   "metadata": {},
   "source": [
    "##  Block 1: Libraries importing\n",
    "Importing necessary libraries."
   ]
  },
  {
   "cell_type": "code",
   "execution_count": 1,
   "id": "9c7c75b2",
   "metadata": {},
   "outputs": [],
   "source": [
    "\n",
    "import pandas as pd\n",
    "from sklearn.model_selection import train_test_split\n",
    "from sklearn.ensemble import RandomForestClassifier\n",
    "from sklearn.metrics import classification_report\n",
    "from imblearn.over_sampling import SMOTE\n",
    "import joblib\n"
   ]
  },
  {
   "cell_type": "markdown",
   "id": "472b4672",
   "metadata": {},
   "source": [
    "##  Block 2: Data Preprocessing\n",
    "Load dataset, handle imbalance with SMOTE, and split into train-test sets."
   ]
  },
  {
   "cell_type": "code",
   "execution_count": null,
   "id": "06acce4c",
   "metadata": {},
   "outputs": [
    {
     "name": "stderr",
     "output_type": "stream",
     "text": [
      "c:\\Users\\E N V Y\\anaconda3\\Lib\\site-packages\\joblib\\externals\\loky\\backend\\context.py:136: UserWarning: Could not find the number of physical cores for the following reason:\n",
      "[WinError 2] The system cannot find the file specified\n",
      "Returning the number of logical cores instead. You can silence this warning by setting LOKY_MAX_CPU_COUNT to the number of cores you want to use.\n",
      "  warnings.warn(\n",
      "  File \"c:\\Users\\E N V Y\\anaconda3\\Lib\\site-packages\\joblib\\externals\\loky\\backend\\context.py\", line 257, in _count_physical_cores\n",
      "    cpu_info = subprocess.run(\n",
      "               ^^^^^^^^^^^^^^^\n",
      "  File \"c:\\Users\\E N V Y\\anaconda3\\Lib\\subprocess.py\", line 548, in run\n",
      "    with Popen(*popenargs, **kwargs) as process:\n",
      "         ^^^^^^^^^^^^^^^^^^^^^^^^^^^\n",
      "  File \"c:\\Users\\E N V Y\\anaconda3\\Lib\\subprocess.py\", line 1026, in __init__\n",
      "    self._execute_child(args, executable, preexec_fn, close_fds,\n",
      "  File \"c:\\Users\\E N V Y\\anaconda3\\Lib\\subprocess.py\", line 1538, in _execute_child\n",
      "    hp, ht, pid, tid = _winapi.CreateProcess(executable, args,\n",
      "                       ^^^^^^^^^^^^^^^^^^^^^^^^^^^^^^^^^^^^^^^\n"
     ]
    }
   ],
   "source": [
    "data = pd.read_csv(r'C:\\Users\\E N V Y\\Downloads\\creditcard.csv')\n",
    "X = data.drop('Class', axis=1)\n",
    "y = data['Class']\n",
    "smote = SMOTE(random_state=42)\n",
    "X_res, y_res = smote.fit_resample(X, y)\n",
    "X_train, X_test, y_train, y_test = train_test_split(X_res, y_res, test_size=0.2, random_state=42)\n"
   ]
  },
  {
   "cell_type": "markdown",
   "id": "ed4b4e31",
   "metadata": {},
   "source": [
    "##  Block 3: Model Training\n",
    "Train a Random Forest classifier and save the model."
   ]
  },
  {
   "cell_type": "code",
   "execution_count": null,
   "id": "f7a719b5",
   "metadata": {},
   "outputs": [
    {
     "data": {
      "text/plain": [
       "['fraud_model.pkl']"
      ]
     },
     "execution_count": 6,
     "metadata": {},
     "output_type": "execute_result"
    }
   ],
   "source": [
    "from sklearn.ensemble import RandomForestClassifier\n",
    "import joblib\n",
    "model = RandomForestClassifier()\n",
    "model.fit(X_train[:1000], y_train[:1000])\n",
    "joblib.dump(model, 'fraud_model.pkl')\n"
   ]
  },
  {
   "cell_type": "markdown",
   "id": "c11c18fb",
   "metadata": {},
   "source": [
    "##  Block 4: Model Evaluation\n",
    "Evaluating model performance using precision, recall, and F1-score."
   ]
  },
  {
   "cell_type": "code",
   "execution_count": null,
   "id": "30c466eb",
   "metadata": {},
   "outputs": [
    {
     "name": "stdout",
     "output_type": "stream",
     "text": [
      "Model Evaluation:\n",
      "\n",
      "              precision    recall  f1-score   support\n",
      "\n",
      "           0       0.95      0.99      0.97     56750\n",
      "           1       0.99      0.95      0.97     56976\n",
      "\n",
      "    accuracy                           0.97    113726\n",
      "   macro avg       0.97      0.97      0.97    113726\n",
      "weighted avg       0.97      0.97      0.97    113726\n",
      "\n"
     ]
    }
   ],
   "source": [
    "y_pred = model.predict(X_test)\n",
    "print(\"Model Evaluation:\\n\")\n",
    "print(classification_report(y_test, y_pred))\n"
   ]
  },
  {
   "cell_type": "markdown",
   "id": "f312c619",
   "metadata": {},
   "source": [
    "##  Block 5: Testing Interface\n",
    "Enter a transaction with 30 input features to test if it's fraud or not."
   ]
  },
  {
   "cell_type": "code",
   "execution_count": null,
   "id": "cc4f6222",
   "metadata": {},
   "outputs": [
    {
     "name": "stdout",
     "output_type": "stream",
     "text": [
      "✅ Legitimate\n"
     ]
    },
    {
     "name": "stderr",
     "output_type": "stream",
     "text": [
      "c:\\Users\\E N V Y\\anaconda3\\Lib\\site-packages\\sklearn\\base.py:493: UserWarning: X does not have valid feature names, but RandomForestClassifier was fitted with feature names\n",
      "  warnings.warn(\n"
     ]
    }
   ],
   "source": [
    "model = joblib.load('fraud_model.pkl')\n",
    "model = joblib.load('fraud_model.pkl')\n",
    "input_str = input(\"Enter 30 comma-separated values: \")\n",
    "try:\n",
    "\tinput_data = [float(x) for x in input_str.strip().split(',')]\n",
    "\tif len(input_data) != 30:\n",
    "\t\traise ValueError(\"Input must contain exactly 30 numeric values.\")\n",
    "\tprediction = model.predict([input_data])\n",
    "\tprint(\"⚠️ Fraudulent\" if prediction[0] == 1 else \"✅ Legitimate\")\n",
    "except ValueError as e:\n",
    "\tprint(f\"Invalid input: {e}\")\n"
   ]
  }
 ],
 "metadata": {
  "kernelspec": {
   "display_name": "base",
   "language": "python",
   "name": "python3"
  },
  "language_info": {
   "codemirror_mode": {
    "name": "ipython",
    "version": 3
   },
   "file_extension": ".py",
   "mimetype": "text/x-python",
   "name": "python",
   "nbconvert_exporter": "python",
   "pygments_lexer": "ipython3",
   "version": "3.12.7"
  }
 },
 "nbformat": 4,
 "nbformat_minor": 5
}
